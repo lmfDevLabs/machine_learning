{
  "nbformat": 4,
  "nbformat_minor": 0,
  "metadata": {
    "colab": {
      "provenance": []
    },
    "kernelspec": {
      "name": "python3",
      "display_name": "Python 3"
    },
    "language_info": {
      "name": "python"
    }
  },
  "cells": [
    {
      "cell_type": "markdown",
      "source": [
        "# Desarrollo proyecto Sistemas inteligentes\n",
        "## Perfil de Consumidor\n",
        "\n",
        "P2-PerfilCons\n",
        "Integrantes: Michelle Soto Florido, Andrés Parra Rodríguez, Julio Alberto Parra Martínez, Carlos A. Talero Jacome\n",
        "\n",
        "En este se describe el desarrollo del modelo de FUzzy KNN para identificar los posibles tipos de productos a comprar de un cliente en una página de internet. Esto se realizó con la base de datos Customer\n",
        "Personality Analysis de la página de internet Kaggle."
      ],
      "metadata": {
        "id": "pdMNRwZJRcfv"
      }
    },
    {
      "cell_type": "markdown",
      "source": [
        "### 1. Lectura base de datos\n",
        "\n",
        "Se realiza lectura de la base de datos directamente del archivo descargado. Luego se eliminan variables que no contienen información (Z_CostContact y Z_Revenue) y las que no se emplearán para el modelo (ID y Complain)"
      ],
      "metadata": {
        "id": "oJVjSvNPS0_w"
      }
    },
    {
      "cell_type": "code",
      "execution_count": 21,
      "metadata": {
        "id": "T4q5E4zUQKo8"
      },
      "outputs": [],
      "source": [
        "import pandas as pd\n",
        "from sklearn.preprocessing import StandardScaler\n",
        "from sklearn.model_selection import train_test_split\n",
        "from sklearn.neural_network import MLPClassifier\n",
        "from sklearn.preprocessing import LabelEncoder\n",
        "from sklearn.metrics import confusion_matrix\n",
        "from sklearn.metrics import accuracy_score\n",
        "import matplotlib.pyplot as plt\n",
        "import numpy as np\n",
        "import random\n",
        "from sklearn.model_selection import KFold\n",
        "\n",
        "# Lectura datos\n",
        "data = pd.read_csv(\"Customer Personality Analysis.csv\",sep='\\t')\n",
        "# Eliminacion de variables no usadas\n",
        "data.drop(['ID','Z_CostContact', 'Z_Revenue','Dt_Customer','Complain'], axis=1, inplace=True)\n",
        "# Eliminacion de datos NaN\n",
        "data = data.dropna()\n",
        "data.reset_index(drop=True, inplace=True)"
      ]
    },
    {
      "cell_type": "markdown",
      "source": [
        "### 2. Transformación de las salidas\n",
        "El propósito de este modelo es predecir con datos demográficos y de comportamiento qué artículos es más probable que compren los usuarios de la plataforma. Las salidas del sistema es un conjunto de datos binarios, donde cada dígito indica la probabilidad de que el usuario puede comprar el artículo o no.\n",
        "\n",
        "Para esto se hace una frontera con la mediana de cada variable."
      ],
      "metadata": {
        "id": "b0EWPUrnRdAM"
      }
    },
    {
      "cell_type": "code",
      "source": [
        "# Sustrae los targets\n",
        "targets = data.loc[:, [\"MntWines\",\"MntFruits\",\"MntMeatProducts\"]]\n",
        "data.drop([\"MntWines\",\"MntFruits\",\"MntMeatProducts\",\"MntFishProducts\",\"MntSweetProducts\",\"MntGoldProds\"], axis=1, inplace=True)\n",
        "\n",
        "# Transformacion de la salidas (6) Escoge las menores de la mitad de los datos (menores a mediana) con Normalizacion (z-score)\n",
        "scalert = StandardScaler()\n",
        "labels = pd.DataFrame(scalert.fit_transform(targets))\n",
        "for i in range(targets.shape[1]):\n",
        "    labels[i] = targets.iloc[:,i] >= np.median(targets.iloc[:,i])\n",
        "labels = labels.replace({False: 0, True: 1})\n",
        "\n",
        "# Frontera de desición mediana para binarizar targets\n",
        "tarNames = ['Wines','Fruits','Meats']\n",
        "for i in range(targets.shape[1]):\n",
        "    print('Mediana de ' + tarNames[i] + ' = ' + str(np.median(targets.iloc[:,i])))\n",
        "    print('Media de ' + tarNames[i] + ' = ' + str(np.mean(targets.iloc[:,i])))\n",
        "\n",
        "# Boxplot de targets sin normalizar\n",
        "plt.boxplot(targets,labels=tarNames);"
      ],
      "metadata": {
        "colab": {
          "base_uri": "https://localhost:8080/",
          "height": 534
        },
        "id": "SYH-OQrBRdX1",
        "outputId": "3bc88a45-6f26-4a70-9e00-6b6a5faefeac"
      },
      "execution_count": 22,
      "outputs": [
        {
          "output_type": "stream",
          "name": "stdout",
          "text": [
            "Mediana de Wines = 174.5\n",
            "Media de Wines = 305.09160649819495\n",
            "Mediana de Fruits = 8.0\n",
            "Media de Fruits = 26.356046931407942\n",
            "Mediana de Meats = 68.0\n",
            "Media de Meats = 166.99593862815885\n"
          ]
        },
        {
          "output_type": "display_data",
          "data": {
            "text/plain": [
              "<Figure size 640x480 with 1 Axes>"
            ],
            "image/png": "[encoded data removed]"
          },
          "metadata": {}
        }
      ]
    },
    {
      "cell_type": "markdown",
      "source": [
        "## 3. Transformaciones a datos de entrada\n",
        "\n",
        "Se toquenizó en número dos variables que venían como texto (Education y Marital_Status). Se generaron dos nuevas variables que dan información sobre el total de compras y el total de promociones acptadas por cada persona. Finalmente se realizó una estandarización con Z-Score"
      ],
      "metadata": {
        "id": "zTAyAsOTRd2m"
      }
    },
    {
      "cell_type": "code",
      "source": [
        "# Strings a numeros (Tokenizacion)\n",
        "label_encoder = LabelEncoder()\n",
        "data['Education'] = label_encoder.fit_transform(data['Education'])\n",
        "data['Marital_Status'] = label_encoder.fit_transform(data['Marital_Status'])\n",
        "\n",
        "# Nuevas variables\n",
        "# Total promociones aceptadas\n",
        "data['Total promociones'] = data['AcceptedCmp3']+data['AcceptedCmp4']+data['AcceptedCmp5']+data['AcceptedCmp1']+data['AcceptedCmp2']+data['Response']\n",
        "# Total compras realizadas\n",
        "data['Total Compras'] = data['NumDealsPurchases']+data['NumWebPurchases']+data['NumCatalogPurchases']+data['NumStorePurchases']\n",
        "\n",
        "data.drop(['AcceptedCmp3', 'AcceptedCmp4', 'AcceptedCmp5', 'AcceptedCmp1','AcceptedCmp2', 'Response'], axis=1, inplace=True)\n",
        "\n",
        "# Normalizacion a todas (z-score)\n",
        "scaler = StandardScaler()\n",
        "data = scaler.fit_transform(data)\n",
        "\n",
        "# Transformacion de la salidas (6) Escoge las menores de la mitad de los datos (menores a mediana) con Normalizacion (z-score)\n",
        "scalert = StandardScaler()\n",
        "labels = pd.DataFrame(scalert.fit_transform(targets))\n",
        "for i in range(targets.shape[1]):\n",
        "    labels[i] = targets.iloc[:,i] >= np.median(targets.iloc[:,i])\n",
        "labels = np.array(labels.replace({False: 0, True: 1}))\n"
      ],
      "metadata": {
        "id": "arOXPg8_ReNI"
      },
      "execution_count": 23,
      "outputs": []
    },
    {
      "cell_type": "markdown",
      "source": [
        "## 4. Algorítmo Fuzzy KNN\n",
        "El algorítmo Fuzzy K-NN fue implementado a parir del artículo cientifico \"A Fuzzy ΛΓ-Nearest Neighbor Algorithm\" de JAMES M. KELLER, MICHAEL R. GRAY, AND JAMES A. GIVENS, JR.\n",
        "\n",
        "Este tiene como salida una matriz de pertenencias, donde muestra el grado de pertenencia a cada clase de cada observación. Para poder comparar los resultados de este con las otras clasificaciones, se generó un umbral, donde la observación con mayor valor de pertenencia, quedará con esa clase.\n"
      ],
      "metadata": {
        "id": "6q_2YH48TCa9"
      }
    },
    {
      "cell_type": "code",
      "source": [
        "def FuzzyKnn(X_train, y_train, X_test, k=3, m=2):\n",
        "    # Definimos el número de vecinos (k) tiene que ser impar (55)\n",
        "    # k = 5\n",
        "    # Conversión de labels a dumies\n",
        "    df = pd.get_dummies(pd.DataFrame(y_train).astype(str))\n",
        "    df = np.matrix(df.astype(int))\n",
        "    # Prediccion de datos test con datos train (el conjunuto es el modelo)\n",
        "    u = []\n",
        "    # m = 0.01\n",
        "    classes = list(set(y_train))\n",
        "    for x in range(len(X_test)):\n",
        "        # Calcula distancia entre observacion y conjunto de datos\n",
        "        distance = np.linalg.norm(X_train - X_test[x], axis=1)\n",
        "        # Ordena de menor a mayor las distancias y entrega sus indices\n",
        "        sorted_indices = np.argsort(distance)\n",
        "        # Entrega los indices de las observaciones más cercanas y excluye el punto en sí mismo\n",
        "        neighbors = sorted_indices[0:k]\n",
        "        # Calculo fuzzy (ver artículo para la ecuación)\n",
        "        votes = []\n",
        "        for c in classes:\n",
        "            den = 0\n",
        "            for i in range(k):\n",
        "                dist = np.linalg.norm(X_test[x] - X_train[neighbors[i],:])\n",
        "                den += 1 / (dist ** (2 / (m-1)))\n",
        "            neighbors_votes = []\n",
        "            for i in range(k):\n",
        "                dist = np.linalg.norm(X_test[x] - X_train[neighbors[i],:])\n",
        "                num = df[neighbors[i], c] / (dist ** (2 / (m-1)))\n",
        "                vote = num/den\n",
        "                neighbors_votes.append(vote)\n",
        "            votes.append(np.sum(neighbors_votes))\n",
        "        u.append(votes)\n",
        "    # conversión de pertenencias fuzzy\n",
        "    u = np.array(u)\n",
        "    y_pred = np.array([])\n",
        "    for i in range(len(u)):\n",
        "        y_pred = np.append(y_pred, np.argmax(u[i]))\n",
        "    return y_pred"
      ],
      "metadata": {
        "id": "kaDEA-lbSS0b"
      },
      "execution_count": 17,
      "outputs": []
    },
    {
      "cell_type": "markdown",
      "source": [
        "## 5. Función para calcular métricas de cada clasificación\n",
        "Como se va a realizar un k-fold, se realizó una función para obtener las métricas de cada clasificación."
      ],
      "metadata": {
        "id": "sO0aBe9sSb3x"
      }
    },
    {
      "cell_type": "code",
      "source": [
        "# Matriz de confusion y scores\n",
        "def confu(y_test, y_pred):\n",
        "    confusion = confusion_matrix(y_test, y_pred)\n",
        "    TP = confusion[1, 1]\n",
        "    TN = confusion[0, 0]\n",
        "    FP = confusion[0, 1]\n",
        "    FN = confusion[1, 0]\n",
        "    exactitud = (TP + TN) / (TP + TN + FP + FN)\n",
        "    precision = TP / (TP + FP)\n",
        "    especificidad = TN / (TN + FP)\n",
        "    sensibilidad = TP / (TP + FN)\n",
        "    f1 = 2*TP / (2*TP + FP + FN)\n",
        "    # print(confusion)\n",
        "    # print(f\"Exactitud = {exactitud:,.2f}\")\n",
        "    # print(f\"Precisión = {precision:,.2f}\")\n",
        "    # print(f\"Especificidad = {especificidad:,.2f}\")\n",
        "    # print(f\"Sensibilidad = {sensibilidad:,.2f}\")\n",
        "    # print(f\"F1 = {f1:,.2f}\")\n",
        "    # print(\" \")\n",
        "    return dict(exactitud = exactitud, precision = precision,\n",
        "            especificidad = especificidad, sensibilidad = sensibilidad, f1 = f1)\n",
        "\n",
        "import warnings\n",
        "warnings.filterwarnings(\"ignore\", category=RuntimeWarning)"
      ],
      "metadata": {
        "id": "J4txJ2K-ScL-"
      },
      "execution_count": 26,
      "outputs": []
    },
    {
      "cell_type": "markdown",
      "source": [
        "## 6. Evaluación de modelo Fuzzy K-NN con k-Fold de 10 iteraciones\n",
        "\n",
        "Se emplea un k-Fold de 10 iteraciones para evitar el sesgo de elegir una semilla para una sola clasificaicón. Al ser 10 iteraciones de clasificaicones, se obtienen un conjunto de datos por cada métrica. A cada uno se le calcula la media y la desviación estandar."
      ],
      "metadata": {
        "id": "jJUvPlAdSjRX"
      }
    },
    {
      "cell_type": "code",
      "source": [
        "tipo = [\"MntWines\",\"MntFruits\",\"MntMeatProducts\"]\n",
        "\n",
        "for j in range(3):\n",
        "\n",
        "    print(f\"Prediciendo {tipo[j]}\")\n",
        "\n",
        "    sens = []\n",
        "    f1 = []\n",
        "    espe = []\n",
        "    exac = []\n",
        "    pres = []\n",
        "    # Crear un objeto KFold\n",
        "    kf = KFold(n_splits=10)\n",
        "    # Iterar sobre los conjuntos de entrenamiento y prueba generados por KFold\n",
        "    for train_index, test_index in kf.split(data):\n",
        "        X_train, X_test = [data[i] for i in train_index], [data[i] for i in test_index]\n",
        "        y_train, y_test = [labels[:,j][i] for i in train_index], [labels[:,j][i] for i in test_index]\n",
        "        X_train = np.matrix(X_train)\n",
        "        X_test = np.matrix(X_test)\n",
        "        y_pred = FuzzyKnn(X_train, y_train, X_test, k=5, m=0.02)\n",
        "        # Rendimiento\n",
        "        rendi = confu(y_test, y_pred)\n",
        "        sens.append(rendi[\"sensibilidad\"])\n",
        "        f1.append(rendi[\"f1\"])\n",
        "        espe.append(rendi[\"especificidad\"])\n",
        "        exac.append(rendi[\"exactitud\"])\n",
        "        pres.append(rendi[\"precision\"])\n",
        "\n",
        "    # Media y desviacion estandar de las métricas del k-fold\n",
        "    exm = np.mean(exac)\n",
        "    exs =np.std(exac)\n",
        "    prem = np.mean(pres)\n",
        "    pres = np.std(pres)\n",
        "    espem = np.mean(espe)\n",
        "    espes = np.std(espe)\n",
        "    sensm = np.mean(sens)\n",
        "    senss = np.std(sens)\n",
        "    f1m = np.mean(f1)\n",
        "    f1s = np.std(f1)\n",
        "\n",
        "\n",
        "    print(f\"Exactitud = {exm:,.2f} ± {exs:,.2f}\")\n",
        "    print(f\"Precisión = {prem:,.2f} ± {pres:,.2f}\")\n",
        "    print(f\"Especificidad = {espem:,.2f} ± {espes:,.2f}\")\n",
        "    print(f\"Sensibilidad = {sensm:,.2f} ± {senss:,.2f}\")\n",
        "    print(f\"F1 = {f1m:,.2f} ± {f1s:,.2f}\")\n",
        "    print(\" \")"
      ],
      "metadata": {
        "colab": {
          "base_uri": "https://localhost:8080/"
        },
        "id": "m5G0cs2jSjlA",
        "outputId": "dfb930ba-9051-4b70-d513-6be5dd527b6c"
      },
      "execution_count": 27,
      "outputs": [
        {
          "output_type": "stream",
          "name": "stdout",
          "text": [
            "Prediciendo MntWines\n",
            "Exactitud = 0.92 ± 0.02\n",
            "Precisión = 0.91 ± 0.03\n",
            "Especificidad = 0.90 ± 0.03\n",
            "Sensibilidad = 0.94 ± 0.02\n",
            "F1 = 0.92 ± 0.02\n",
            " \n",
            "Prediciendo MntFruits\n",
            "Exactitud = 0.79 ± 0.02\n",
            "Precisión = 0.79 ± 0.05\n",
            "Especificidad = 0.79 ± 0.03\n",
            "Sensibilidad = 0.78 ± 0.04\n",
            "F1 = 0.79 ± 0.03\n",
            " \n",
            "Prediciendo MntMeatProducts\n",
            "Exactitud = 0.89 ± 0.02\n",
            "Precisión = 0.89 ± 0.03\n",
            "Especificidad = 0.89 ± 0.03\n",
            "Sensibilidad = 0.89 ± 0.03\n",
            "F1 = 0.89 ± 0.02\n",
            " \n"
          ]
        }
      ]
    }
  ]
}