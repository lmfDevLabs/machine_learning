{
  "nbformat": 4,
  "nbformat_minor": 0,
  "metadata": {
    "colab": {
      "provenance": []
    },
    "kernelspec": {
      "name": "python3",
      "display_name": "Python 3"
    },
    "language_info": {
      "name": "python"
    }
  },
  "cells": [
    {
      "cell_type": "markdown",
      "source": [
        "# Desarrollo proyecto Sistemas inteligentes\n",
        "## Perfil de Consumidor\n",
        "\n",
        "P2-PerfilCons\n",
        "Integrantes: Michelle Soto Florido, Andrés Parra Rodríguez, Julio Alberto Parra Martínez, Carlos A. Talero Jacome\n",
        "\n",
        "En este se describe el desarrollo del modelo de una red neuronal para identificar los posibles tipos de productos a comprar de un cliente en una página de internet. Esto se realizó con la base de datos Customer\n",
        "Personality Analysis de la página de internet Kaggle."
      ],
      "metadata": {
        "id": "pdMNRwZJRcfv"
      }
    },
    {
      "cell_type": "markdown",
      "source": [
        "### 1. Lectura base de datos\n",
        "\n",
        "Se realiza lectura de la base de datos directamente del archivo descargado. Luego se eliminan variables que no contienen información (Z_CostContact y Z_Revenue) y las que no se emplearán para el modelo (ID y Complain)"
      ],
      "metadata": {
        "id": "oJVjSvNPS0_w"
      }
    },
    {
      "cell_type": "code",
      "execution_count": null,
      "metadata": {
        "id": "T4q5E4zUQKo8"
      },
      "outputs": [],
      "source": [
        "import pandas as pd\n",
        "from sklearn.preprocessing import StandardScaler\n",
        "from sklearn.model_selection import train_test_split\n",
        "from sklearn.neural_network import MLPClassifier\n",
        "from sklearn.preprocessing import LabelEncoder\n",
        "from sklearn.metrics import confusion_matrix\n",
        "from sklearn.metrics import accuracy_score\n",
        "import matplotlib.pyplot as plt\n",
        "import numpy as np\n",
        "import random\n",
        "\n",
        "# Lectura datos\n",
        "data = pd.read_csv(\"Customer Personality Analysis.csv\",sep='\\t')\n",
        "# Eliminacion de variables no usadas\n",
        "data.drop(['ID','Z_CostContact', 'Z_Revenue','Dt_Customer','Complain'], axis=1, inplace=True)\n",
        "# Eliminacion de datos NaN\n",
        "data = data.dropna()\n",
        "data.reset_index(drop=True, inplace=True)"
      ]
    },
    {
      "cell_type": "markdown",
      "source": [
        "### 2. Transformación de las salidas\n",
        "El propósito de este modelo es predecir con datos demográficos y de comportamiento qué artículos es más probable que compren los usuarios de la plataforma. Las salidas del sistema es un conjunto de datos binarios, donde cada dígito indica la probabilidad de que el usuario puede comprar el artículo o no.\n",
        "\n",
        "Para esto se hace una frontera con la mediana de cada variable."
      ],
      "metadata": {
        "id": "b0EWPUrnRdAM"
      }
    },
    {
      "cell_type": "code",
      "source": [
        "# Sustrae los targets\n",
        "targets = data.loc[:, [\"MntWines\",\"MntFruits\",\"MntMeatProducts\"]]\n",
        "data.drop([\"MntWines\",\"MntFruits\",\"MntMeatProducts\",\"MntFishProducts\",\"MntSweetProducts\",\"MntGoldProds\"], axis=1, inplace=True)\n",
        "\n",
        "# Transformacion de la salidas (6) Escoge las menores de la mitad de los datos (menores a mediana) con Normalizacion (z-score)\n",
        "scalert = StandardScaler()\n",
        "labels = pd.DataFrame(scalert.fit_transform(targets))\n",
        "for i in range(targets.shape[1]):\n",
        "    labels[i] = targets.iloc[:,i] >= np.median(targets.iloc[:,i])\n",
        "labels = labels.replace({False: 0, True: 1})\n",
        "\n",
        "# Frontera de desición mediana para binarizar targets\n",
        "tarNames = ['Wines','Fruits','Meats']\n",
        "for i in range(targets.shape[1]):\n",
        "    print('Mediana de ' + tarNames[i] + ' = ' + str(np.median(targets.iloc[:,i])))\n",
        "    print('Media de ' + tarNames[i] + ' = ' + str(np.mean(targets.iloc[:,i])))\n",
        "\n",
        "# Boxplot de targets sin normalizar\n",
        "plt.boxplot(targets,labels=tarNames);"
      ],
      "metadata": {
        "colab": {
          "base_uri": "https://localhost:8080/",
          "height": 534
        },
        "id": "SYH-OQrBRdX1",
        "outputId": "b4939070-1521-4320-9551-33e62e0bca87"
      },
      "execution_count": null,
      "outputs": [
        {
          "output_type": "stream",
          "name": "stdout",
          "text": [
            "Mediana de Wines = 174.5\n",
            "Media de Wines = 305.09160649819495\n",
            "Mediana de Fruits = 8.0\n",
            "Media de Fruits = 26.356046931407942\n",
            "Mediana de Meats = 68.0\n",
            "Media de Meats = 166.99593862815885\n"
          ]
        },
        {
          "output_type": "display_data",
          "data": {
            "text/plain": [
              "<Figure size 640x480 with 1 Axes>"
            ],
            "image/png": "[encoded data removed]"
          },
          "metadata": {}
        }
      ]
    },
    {
      "cell_type": "markdown",
      "source": [
        "3. Transformaciones a datos de entrada\n",
        "\n",
        "Se toquenizó en número dos variables que venían como texto (Education y Marital_Status). Se generaron dos nuevas variables que dan información sobre el total de compras y el total de promociones acptadas por cada persona. Finalmente se realizó una estandarización con Z-Score"
      ],
      "metadata": {
        "id": "zTAyAsOTRd2m"
      }
    },
    {
      "cell_type": "code",
      "source": [
        "# Strings a numeros (Tokenizacion)\n",
        "label_encoder = LabelEncoder()\n",
        "data['Education'] = label_encoder.fit_transform(data.loc[:,['Education']])\n",
        "data['Marital_Status'] = label_encoder.fit_transform(data.loc[:,['Marital_Status']])\n",
        "\n",
        "# Transformacion logaritmica a datos sesgados a la derecha\n",
        "# data[] = np.log(data['Income'], 10)\n",
        "\n",
        "# Nuevas variables\n",
        "# Total promociones aceptadas\n",
        "data['Total promociones'] = data['AcceptedCmp3']+data['AcceptedCmp4']+data['AcceptedCmp5']+data['AcceptedCmp1']+data['AcceptedCmp2']+data['Response']\n",
        "# Total compras realizadas\n",
        "data['Total Compras'] = data['NumDealsPurchases']+data['NumWebPurchases']+data['NumCatalogPurchases']+data['NumStorePurchases']\n",
        "\n",
        "# Normalizacion a todas (z-score)\n",
        "scaler = StandardScaler()\n",
        "data = scaler.fit_transform(data)"
      ],
      "metadata": {
        "id": "arOXPg8_ReNI"
      },
      "execution_count": null,
      "outputs": []
    },
    {
      "cell_type": "markdown",
      "source": [
        "4. Separación entre conjuntos de entrenamiento, test y validación.\n",
        "\n",
        "Se separaron las observaciones en tres conjuntos de datos:\n",
        "entrenamiento: 60%\n",
        "test: 40%\n",
        "validación 10%"
      ],
      "metadata": {
        "id": "3-I37J6ORemS"
      }
    },
    {
      "cell_type": "code",
      "source": [
        "# Separacion entre datos entrenamiento, prueba y validación.\n",
        "seed = 50\n",
        "# Division de conjuntos de entrenamiento (60%) y los otros\n",
        "X_train, X_temp = train_test_split(data, test_size=0.4, random_state=seed)\n",
        "# Divicion entre datos de validacion (10%) y test (30%)\n",
        "X_test, X_vali = train_test_split(X_temp, test_size=0.25, random_state=seed)\n",
        "\n",
        "# Division de conjuntos de entrenamiento (60%) y los otros\n",
        "y_train, y_temp = train_test_split(labels, test_size=0.4, random_state=seed)\n",
        "# Divicion entre datos de validacion (10%) y test (30%)\n",
        "y_test, y_vali = train_test_split(y_temp, test_size=0.25, random_state=seed)\n"
      ],
      "metadata": {
        "id": "s5NHCa7DSPyd"
      },
      "execution_count": null,
      "outputs": []
    },
    {
      "cell_type": "markdown",
      "source": [
        "5. Entrenamiento del modelo\n",
        "\n",
        "Se empleó una red neuronal clásica con dos capas ocultas, cada una con 128 neuronas. Como función de activación se empleó ReLU (Rectified Linear Unit)."
      ],
      "metadata": {
        "id": "U3ZqAKXbSSGQ"
      }
    },
    {
      "cell_type": "code",
      "source": [
        "# Red Neuronal con sus parametros\n",
        "model = MLPClassifier(hidden_layer_sizes=(29, 29), activation='logistic', max_iter=1000, random_state=42)\n",
        "\n",
        "# Entrena el modelo\n",
        "model.fit(X_train, y_train)"
      ],
      "metadata": {
        "colab": {
          "base_uri": "https://localhost:8080/",
          "height": 92
        },
        "id": "kaDEA-lbSS0b",
        "outputId": "8e3e2ae7-73d7-4055-a9f4-61ecb1cc5096"
      },
      "execution_count": 86,
      "outputs": [
        {
          "output_type": "execute_result",
          "data": {
            "text/plain": [
              "MLPClassifier(activation='logistic', hidden_layer_sizes=(29, 29), max_iter=1000,\n",
              "              random_state=42)"
            ],
            "text/html": [
              "<style>#sk-container-id-13 {color: black;background-color: white;}#sk-container-id-13 pre{padding: 0;}#sk-container-id-13 div.sk-toggleable {background-color: white;}#sk-container-id-13 label.sk-toggleable__label {cursor: pointer;display: block;width: 100%;margin-bottom: 0;padding: 0.3em;box-sizing: border-box;text-align: center;}#sk-container-id-13 label.sk-toggleable__label-arrow:before {content: \"▸\";float: left;margin-right: 0.25em;color: #696969;}#sk-container-id-13 label.sk-toggleable__label-arrow:hover:before {color: black;}#sk-container-id-13 div.sk-estimator:hover label.sk-toggleable__label-arrow:before {color: black;}#sk-container-id-13 div.sk-toggleable__content {max-height: 0;max-width: 0;overflow: hidden;text-align: left;background-color: #f0f8ff;}#sk-container-id-13 div.sk-toggleable__content pre {margin: 0.2em;color: black;border-radius: 0.25em;background-color: #f0f8ff;}#sk-container-id-13 input.sk-toggleable__control:checked~div.sk-toggleable__content {max-height: 200px;max-width: 100%;overflow: auto;}#sk-container-id-13 input.sk-toggleable__control:checked~label.sk-toggleable__label-arrow:before {content: \"▾\";}#sk-container-id-13 div.sk-estimator input.sk-toggleable__control:checked~label.sk-toggleable__label {background-color: #d4ebff;}#sk-container-id-13 div.sk-label input.sk-toggleable__control:checked~label.sk-toggleable__label {background-color: #d4ebff;}#sk-container-id-13 input.sk-hidden--visually {border: 0;clip: rect(1px 1px 1px 1px);clip: rect(1px, 1px, 1px, 1px);height: 1px;margin: -1px;overflow: hidden;padding: 0;position: absolute;width: 1px;}#sk-container-id-13 div.sk-estimator {font-family: monospace;background-color: #f0f8ff;border: 1px dotted black;border-radius: 0.25em;box-sizing: border-box;margin-bottom: 0.5em;}#sk-container-id-13 div.sk-estimator:hover {background-color: #d4ebff;}#sk-container-id-13 div.sk-parallel-item::after {content: \"\";width: 100%;border-bottom: 1px solid gray;flex-grow: 1;}#sk-container-id-13 div.sk-label:hover label.sk-toggleable__label {background-color: #d4ebff;}#sk-container-id-13 div.sk-serial::before {content: \"\";position: absolute;border-left: 1px solid gray;box-sizing: border-box;top: 0;bottom: 0;left: 50%;z-index: 0;}#sk-container-id-13 div.sk-serial {display: flex;flex-direction: column;align-items: center;background-color: white;padding-right: 0.2em;padding-left: 0.2em;position: relative;}#sk-container-id-13 div.sk-item {position: relative;z-index: 1;}#sk-container-id-13 div.sk-parallel {display: flex;align-items: stretch;justify-content: center;background-color: white;position: relative;}#sk-container-id-13 div.sk-item::before, #sk-container-id-13 div.sk-parallel-item::before {content: \"\";position: absolute;border-left: 1px solid gray;box-sizing: border-box;top: 0;bottom: 0;left: 50%;z-index: -1;}#sk-container-id-13 div.sk-parallel-item {display: flex;flex-direction: column;z-index: 1;position: relative;background-color: white;}#sk-container-id-13 div.sk-parallel-item:first-child::after {align-self: flex-end;width: 50%;}#sk-container-id-13 div.sk-parallel-item:last-child::after {align-self: flex-start;width: 50%;}#sk-container-id-13 div.sk-parallel-item:only-child::after {width: 0;}#sk-container-id-13 div.sk-dashed-wrapped {border: 1px dashed gray;margin: 0 0.4em 0.5em 0.4em;box-sizing: border-box;padding-bottom: 0.4em;background-color: white;}#sk-container-id-13 div.sk-label label {font-family: monospace;font-weight: bold;display: inline-block;line-height: 1.2em;}#sk-container-id-13 div.sk-label-container {text-align: center;}#sk-container-id-13 div.sk-container {/* jupyter's `normalize.less` sets `[hidden] { display: none; }` but bootstrap.min.css set `[hidden] { display: none !important; }` so we also need the `!important` here to be able to override the default hidden behavior on the sphinx rendered scikit-learn.org. See: https://github.com/scikit-learn/scikit-learn/issues/21755 */display: inline-block !important;position: relative;}#sk-container-id-13 div.sk-text-repr-fallback {display: none;}</style><div id=\"sk-container-id-13\" class=\"sk-top-container\"><div class=\"sk-text-repr-fallback\"><pre>MLPClassifier(activation=&#x27;logistic&#x27;, hidden_layer_sizes=(29, 29), max_iter=1000,\n",
              "              random_state=42)</pre><b>In a Jupyter environment, please rerun this cell to show the HTML representation or trust the notebook. <br />On GitHub, the HTML representation is unable to render, please try loading this page with nbviewer.org.</b></div><div class=\"sk-container\" hidden><div class=\"sk-item\"><div class=\"sk-estimator sk-toggleable\"><input class=\"sk-toggleable__control sk-hidden--visually\" id=\"sk-estimator-id-13\" type=\"checkbox\" checked><label for=\"sk-estimator-id-13\" class=\"sk-toggleable__label sk-toggleable__label-arrow\">MLPClassifier</label><div class=\"sk-toggleable__content\"><pre>MLPClassifier(activation=&#x27;logistic&#x27;, hidden_layer_sizes=(29, 29), max_iter=1000,\n",
              "              random_state=42)</pre></div></div></div></div></div>"
            ]
          },
          "metadata": {},
          "execution_count": 86
        }
      ]
    },
    {
      "cell_type": "markdown",
      "source": [
        "6. Evaluación del modelo con datos de test"
      ],
      "metadata": {
        "id": "sO0aBe9sSb3x"
      }
    },
    {
      "cell_type": "code",
      "source": [
        "# Test del model\n",
        "test_accuracy = model.score(X_test, y_test)\n",
        "print(f'Exactitud datos test: {test_accuracy:,.2f}')\n",
        "print(\" \")\n",
        "\n",
        "# Realizar predicciones en el conjunto de prueba\n",
        "y_pred = model.predict(X_test)\n",
        "\n",
        "accuracy = accuracy_score(y_test, y_pred)\n",
        "\n",
        "# Funcion m.confunsion\n",
        "def confu(y_test, y_pred):\n",
        "    confusion = confusion_matrix(y_test, y_pred)\n",
        "    TP = confusion[1, 1]\n",
        "    TN = confusion[0, 0]\n",
        "    FP = confusion[0, 1]\n",
        "    FN = confusion[1, 0]\n",
        "    exactitud = (TP + TN) / (TP + TN + FP + FN)\n",
        "    precision = TP / (TP + FP)\n",
        "    especificidad = TN / (TN + FP)\n",
        "    sensibilidad = TP / (TP + FN)\n",
        "    print(confusion)\n",
        "    print(f\"Exactitud = {exactitud:,.2f}\")\n",
        "    print(f\"Precisión = {precision:,.2f}\")\n",
        "    print(f\"Especificidad = {especificidad:,.2f}\")\n",
        "    print(f\"Sensibilidad = {sensibilidad:,.2f}\")\n",
        "\n",
        "\n",
        "# Calcular la matrices de confusión\n",
        "tarNames = ['Wines','Fruits','Meats']\n",
        "print('Predicciones con datos de test')\n",
        "for i in range(targets.shape[1]):\n",
        "    print(tarNames[i])\n",
        "    confu(y_test.iloc[:,i], y_pred[:,i])\n",
        "    print(' ')"
      ],
      "metadata": {
        "colab": {
          "base_uri": "https://localhost:8080/"
        },
        "id": "J4txJ2K-ScL-",
        "outputId": "88bdd944-f994-4761-f62b-b2e444fbd3ae"
      },
      "execution_count": 87,
      "outputs": [
        {
          "output_type": "stream",
          "name": "stdout",
          "text": [
            "Exactitud datos test: 0.71\n",
            " \n",
            "Predicciones con datos de test\n",
            "Wines\n",
            "[[312  32]\n",
            " [  9 312]]\n",
            "Exactitud = 0.94\n",
            "Precisión = 0.91\n",
            "Especificidad = 0.91\n",
            "Sensibilidad = 0.97\n",
            " \n",
            "Fruits\n",
            "[[267  60]\n",
            " [ 64 274]]\n",
            "Exactitud = 0.81\n",
            "Precisión = 0.82\n",
            "Especificidad = 0.82\n",
            "Sensibilidad = 0.81\n",
            " \n",
            "Meats\n",
            "[[311  33]\n",
            " [ 31 290]]\n",
            "Exactitud = 0.90\n",
            "Precisión = 0.90\n",
            "Especificidad = 0.90\n",
            "Sensibilidad = 0.90\n",
            " \n"
          ]
        }
      ]
    },
    {
      "cell_type": "markdown",
      "source": [
        "7. Evaluación del modelo con datos de validación"
      ],
      "metadata": {
        "id": "jJUvPlAdSjRX"
      }
    },
    {
      "cell_type": "code",
      "source": [
        "# Exactitud del modelo con conjunto de validación\n",
        "test_accuracy = model.score(X_vali, y_vali)\n",
        "print(f\"Exactitud datos validación: {test_accuracy:,.2f}\")\n",
        "print(\" \")\n",
        "\n",
        "# Predicciones en el conjunto de validación\n",
        "y_pred2 = model.predict(X_vali)\n",
        "\n",
        "# Calcular la matrices de confusión\n",
        "tarNames = ['Wines','Fruits','Meats']\n",
        "print('Predicciones con datos de validacion')\n",
        "for i in range(targets.shape[1]):\n",
        "    print(tarNames[i])\n",
        "    confu(y_vali.iloc[:,i], y_pred2[:,i])\n",
        "    print(' ')"
      ],
      "metadata": {
        "colab": {
          "base_uri": "https://localhost:8080/"
        },
        "id": "m5G0cs2jSjlA",
        "outputId": "db487d77-d3e2-4c7a-f6c5-489f8986ae36"
      },
      "execution_count": 88,
      "outputs": [
        {
          "output_type": "stream",
          "name": "stdout",
          "text": [
            "Exactitud datos validación: 0.69\n",
            " \n",
            "Predicciones con datos de validacion\n",
            "Wines\n",
            "[[ 98  11]\n",
            " [  5 108]]\n",
            "Exactitud = 0.93\n",
            "Precisión = 0.91\n",
            "Especificidad = 0.90\n",
            "Sensibilidad = 0.96\n",
            " \n",
            "Fruits\n",
            "[[85 23]\n",
            " [24 90]]\n",
            "Exactitud = 0.79\n",
            "Precisión = 0.80\n",
            "Especificidad = 0.79\n",
            "Sensibilidad = 0.79\n",
            " \n",
            "Meats\n",
            "[[ 94   6]\n",
            " [ 14 108]]\n",
            "Exactitud = 0.91\n",
            "Precisión = 0.95\n",
            "Especificidad = 0.94\n",
            "Sensibilidad = 0.89\n",
            " \n"
          ]
        }
      ]
    },
    {
      "cell_type": "markdown",
      "source": [
        "## 7. Algoritmo genetico\n",
        "Luego de obtener los primeros resultados de clasificación, se siguió a optimizar los parámetros de la RN con un algorítmo genético\n"
      ],
      "metadata": {
        "id": "0FNe_Ti_SQKv"
      }
    },
    {
      "cell_type": "code",
      "source": [
        "def foo(X_train, y_train, X_test, y_test, act, nn1, nn2):\n",
        "    # Selección de función de activación\n",
        "    if act == 0:\n",
        "        ac = 'identity'\n",
        "    elif act == 1:\n",
        "        ac = 'logistic'\n",
        "    elif act == 2:\n",
        "        ac = 'tanh'\n",
        "    elif act == 3:\n",
        "        ac = 'relu'\n",
        "    else:\n",
        "        ac = 'logistic'\n",
        "    # Por si el numero de neuronas muta a un numero menor a 1\n",
        "    if nn1<1:\n",
        "        nn1=1\n",
        "    if nn2<1:\n",
        "        nn2=1\n",
        "\n",
        "    # Red Neuronal con sus parametros\n",
        "    model = MLPClassifier(hidden_layer_sizes=(nn1, nn2), activation=ac, max_iter=1000, alpha=0.1, random_state=42);\n",
        "    # Entrena el modelo\n",
        "    model.fit(X_train, y_train)\n",
        "\n",
        "    # Exactitud del modelo\n",
        "    test_accuracy = model.score(X_test, y_test)\n",
        "    return test_accuracy\n",
        "\n",
        "# Función fitness\n",
        "def fitness(X_train, y_train,X_test, y_test, act, nn1, nn2):\n",
        "    ans = foo(X_train, y_train,X_test, y_test, act, nn1, nn2)\n",
        "    esperado = 0.85\n",
        "    error = esperado - ans\n",
        "    return abs(1/error)\n",
        "\n",
        "# Funcion para imprimir qué parametros evaluó\n",
        "def paramet(act, nn1, nn2):\n",
        "    if act == 0:\n",
        "        ac = 'identity'\n",
        "    elif act == 1:\n",
        "        ac = 'logistic'\n",
        "    elif act == 2:\n",
        "        ac = 'tanh'\n",
        "    elif act == 3:\n",
        "        ac = 'relu'\n",
        "    else:\n",
        "        ac = 'logistic'\n",
        "    print(f\" === Activacion {ac} con {nn1} y {nn2} === \")"
      ],
      "metadata": {
        "id": "o8VHOScUkIqy"
      },
      "execution_count": null,
      "outputs": []
    },
    {
      "cell_type": "markdown",
      "source": [
        "Corrido del algorítmo genético"
      ],
      "metadata": {
        "id": "9k7veV_hlu4k"
      }
    },
    {
      "cell_type": "code",
      "source": [
        "# Población inicial (Generación 0)\n",
        "solutions = []\n",
        "for s in range(10):\n",
        "    solutions.append((random.randint(0,4),\n",
        "                      random.randint(100,150),\n",
        "                      random.randint(100,150)))\n",
        "\n",
        "\n",
        "import warnings\n",
        "# Suprimir las advertencias de convergencia\n",
        "warnings.filterwarnings(\"ignore\", category=UserWarning)\n",
        "\n",
        "for i in range(6):\n",
        "    # Evalua conjunto de soluciones\n",
        "    rankedsolutions = []\n",
        "    for s in solutions:\n",
        "        rankedsolutions.append((fitness(X_train, y_train,X_test, y_test, s[0],s[1],s[2]),s))\n",
        "    rankedsolutions.sort()\n",
        "    rankedsolutions.reverse()\n",
        "    print(' ')\n",
        "    print(f\"====== Gen {i} best solutions ====== \")\n",
        "    paramet(rankedsolutions[0][1][0],rankedsolutions[0][1][1],rankedsolutions[0][1][2])\n",
        "    print(f\"Exactitud: {(-1/rankedsolutions[0][0]+0.85)*100:.2f}\")\n",
        "    print(rankedsolutions[0])\n",
        "    print(\"  \")\n",
        "\n",
        "    # Para si encontró una respuesta\n",
        "    if rankedsolutions[0][0] > 999:\n",
        "        break\n",
        "\n",
        "    # Deja las 100 mejores\n",
        "    bestsolutions = rankedsolutions[:100]\n",
        "\n",
        "    # Mating Pool. Junta las mejores soluciones\n",
        "    elements1 = []\n",
        "    elements2 = []\n",
        "    elements3 = []\n",
        "    for bs in bestsolutions:\n",
        "        elements1.append(bs[1][0])\n",
        "        elements2.append(bs[1][1])\n",
        "        elements3.append(bs[1][2])\n",
        "\n",
        "    # Cross Over y Mutacion.\n",
        "    newGen = []\n",
        "    for _ in range(18):\n",
        "        # Guarda aleatoriamente elementos y los castiga un poco para variarlos.\n",
        "        e1 = round(random.choice(elements1) * random.uniform(0.1,1.9))\n",
        "        e2 = round(random.choice(elements2) * random.uniform(0.1,1.9))\n",
        "        e3 = round(random.choice(elements3) * random.uniform(0.1,1.9))\n",
        "        newGen.append((e1,e2,e3))\n",
        "\n",
        "    for j in range(2):\n",
        "        # Guarda los 2 mejores de los mejores elementos sin mutarlos\n",
        "        e1 = elements1[j]\n",
        "        e2 = elements2[j]\n",
        "        e3 = elements3[j]\n",
        "        newGen.append((e1,e2,e3))\n",
        "\n",
        "    # Nueva generación a evaluar\n",
        "    solutions = newGen"
      ],
      "metadata": {
        "colab": {
          "base_uri": "https://localhost:8080/"
        },
        "id": "t6ql7SYClvPK",
        "outputId": "72c9603a-f7ae-4596-c964-37cbd524a159"
      },
      "execution_count": 72,
      "outputs": [
        {
          "output_type": "stream",
          "name": "stdout",
          "text": [
            " \n",
            "====== Gen 0 best solutions ====== \n",
            " === Activacion tanh con 102 y 111 === \n",
            "Exactitud: 72.93\n",
            "(8.286604361370719, (2, 102, 111))\n",
            "  \n",
            " \n",
            "====== Gen 1 best solutions ====== \n",
            " === Activacion tanh con 170 y 162 === \n",
            "Exactitud: 73.68\n",
            "(8.83720930232558, (2, 170, 162))\n",
            "  \n",
            " \n",
            "====== Gen 2 best solutions ====== \n",
            " === Activacion tanh con 102 y 43 === \n",
            "Exactitud: 74.44\n",
            "(9.466192170818509, (2, 102, 43))\n",
            "  \n",
            " \n",
            "====== Gen 3 best solutions ====== \n",
            " === Activacion tanh con 102 y 43 === \n",
            "Exactitud: 74.44\n",
            "(9.466192170818509, (2, 102, 43))\n",
            "  \n",
            " \n",
            "====== Gen 4 best solutions ====== \n",
            " === Activacion tanh con 102 y 43 === \n",
            "Exactitud: 74.44\n",
            "(9.466192170818509, (2, 102, 43))\n",
            "  \n",
            " \n",
            "====== Gen 5 best solutions ====== \n",
            " === Activacion tanh con 102 y 43 === \n",
            "Exactitud: 74.44\n",
            "(9.466192170818509, (2, 102, 43))\n",
            "  \n"
          ]
        }
      ]
    },
    {
      "cell_type": "markdown",
      "source": [
        "Finalmente se evaluan los parámetros del AG con el conjunto de validación."
      ],
      "metadata": {
        "id": "yaCHT23Ql64L"
      }
    },
    {
      "cell_type": "code",
      "source": [
        "# Mejor resultado\n",
        "act = rankedsolutions[0][1][0]\n",
        "nn1 = rankedsolutions[0][1][1]\n",
        "nn2 = rankedsolutions[0][1][2]\n",
        "\n",
        "# Traduce la parte del gen que tinene la función de activación\n",
        "if act == 0:\n",
        "    ac = 'identity'\n",
        "elif act == 1:\n",
        "    ac = 'logistic'\n",
        "elif act == 2:\n",
        "    ac = 'tanh'\n",
        "elif act == 3:\n",
        "    ac = 'relu'\n",
        "else:\n",
        "    ac = 'logistic'\n",
        "\n",
        "# Modelo con mejores parámetros\n",
        "model = MLPClassifier(hidden_layer_sizes=(nn1, nn2), activation=ac, max_iter=1000, alpha=0.1, random_state=42)\n",
        "# Entrenamiento del modelo\n",
        "model.fit(X_train, y_train)"
      ],
      "metadata": {
        "colab": {
          "base_uri": "https://localhost:8080/",
          "height": 92
        },
        "id": "g3qOEbzfl7Nc",
        "outputId": "7f29d256-effd-46e0-f277-1d930c1a50b6"
      },
      "execution_count": 73,
      "outputs": [
        {
          "output_type": "execute_result",
          "data": {
            "text/plain": [
              "MLPClassifier(activation='tanh', alpha=0.1, hidden_layer_sizes=(102, 43),\n",
              "              max_iter=1000, random_state=42)"
            ],
            "text/html": [
              "<style>#sk-container-id-8 {color: black;background-color: white;}#sk-container-id-8 pre{padding: 0;}#sk-container-id-8 div.sk-toggleable {background-color: white;}#sk-container-id-8 label.sk-toggleable__label {cursor: pointer;display: block;width: 100%;margin-bottom: 0;padding: 0.3em;box-sizing: border-box;text-align: center;}#sk-container-id-8 label.sk-toggleable__label-arrow:before {content: \"▸\";float: left;margin-right: 0.25em;color: #696969;}#sk-container-id-8 label.sk-toggleable__label-arrow:hover:before {color: black;}#sk-container-id-8 div.sk-estimator:hover label.sk-toggleable__label-arrow:before {color: black;}#sk-container-id-8 div.sk-toggleable__content {max-height: 0;max-width: 0;overflow: hidden;text-align: left;background-color: #f0f8ff;}#sk-container-id-8 div.sk-toggleable__content pre {margin: 0.2em;color: black;border-radius: 0.25em;background-color: #f0f8ff;}#sk-container-id-8 input.sk-toggleable__control:checked~div.sk-toggleable__content {max-height: 200px;max-width: 100%;overflow: auto;}#sk-container-id-8 input.sk-toggleable__control:checked~label.sk-toggleable__label-arrow:before {content: \"▾\";}#sk-container-id-8 div.sk-estimator input.sk-toggleable__control:checked~label.sk-toggleable__label {background-color: #d4ebff;}#sk-container-id-8 div.sk-label input.sk-toggleable__control:checked~label.sk-toggleable__label {background-color: #d4ebff;}#sk-container-id-8 input.sk-hidden--visually {border: 0;clip: rect(1px 1px 1px 1px);clip: rect(1px, 1px, 1px, 1px);height: 1px;margin: -1px;overflow: hidden;padding: 0;position: absolute;width: 1px;}#sk-container-id-8 div.sk-estimator {font-family: monospace;background-color: #f0f8ff;border: 1px dotted black;border-radius: 0.25em;box-sizing: border-box;margin-bottom: 0.5em;}#sk-container-id-8 div.sk-estimator:hover {background-color: #d4ebff;}#sk-container-id-8 div.sk-parallel-item::after {content: \"\";width: 100%;border-bottom: 1px solid gray;flex-grow: 1;}#sk-container-id-8 div.sk-label:hover label.sk-toggleable__label {background-color: #d4ebff;}#sk-container-id-8 div.sk-serial::before {content: \"\";position: absolute;border-left: 1px solid gray;box-sizing: border-box;top: 0;bottom: 0;left: 50%;z-index: 0;}#sk-container-id-8 div.sk-serial {display: flex;flex-direction: column;align-items: center;background-color: white;padding-right: 0.2em;padding-left: 0.2em;position: relative;}#sk-container-id-8 div.sk-item {position: relative;z-index: 1;}#sk-container-id-8 div.sk-parallel {display: flex;align-items: stretch;justify-content: center;background-color: white;position: relative;}#sk-container-id-8 div.sk-item::before, #sk-container-id-8 div.sk-parallel-item::before {content: \"\";position: absolute;border-left: 1px solid gray;box-sizing: border-box;top: 0;bottom: 0;left: 50%;z-index: -1;}#sk-container-id-8 div.sk-parallel-item {display: flex;flex-direction: column;z-index: 1;position: relative;background-color: white;}#sk-container-id-8 div.sk-parallel-item:first-child::after {align-self: flex-end;width: 50%;}#sk-container-id-8 div.sk-parallel-item:last-child::after {align-self: flex-start;width: 50%;}#sk-container-id-8 div.sk-parallel-item:only-child::after {width: 0;}#sk-container-id-8 div.sk-dashed-wrapped {border: 1px dashed gray;margin: 0 0.4em 0.5em 0.4em;box-sizing: border-box;padding-bottom: 0.4em;background-color: white;}#sk-container-id-8 div.sk-label label {font-family: monospace;font-weight: bold;display: inline-block;line-height: 1.2em;}#sk-container-id-8 div.sk-label-container {text-align: center;}#sk-container-id-8 div.sk-container {/* jupyter's `normalize.less` sets `[hidden] { display: none; }` but bootstrap.min.css set `[hidden] { display: none !important; }` so we also need the `!important` here to be able to override the default hidden behavior on the sphinx rendered scikit-learn.org. See: https://github.com/scikit-learn/scikit-learn/issues/21755 */display: inline-block !important;position: relative;}#sk-container-id-8 div.sk-text-repr-fallback {display: none;}</style><div id=\"sk-container-id-8\" class=\"sk-top-container\"><div class=\"sk-text-repr-fallback\"><pre>MLPClassifier(activation=&#x27;tanh&#x27;, alpha=0.1, hidden_layer_sizes=(102, 43),\n",
              "              max_iter=1000, random_state=42)</pre><b>In a Jupyter environment, please rerun this cell to show the HTML representation or trust the notebook. <br />On GitHub, the HTML representation is unable to render, please try loading this page with nbviewer.org.</b></div><div class=\"sk-container\" hidden><div class=\"sk-item\"><div class=\"sk-estimator sk-toggleable\"><input class=\"sk-toggleable__control sk-hidden--visually\" id=\"sk-estimator-id-8\" type=\"checkbox\" checked><label for=\"sk-estimator-id-8\" class=\"sk-toggleable__label sk-toggleable__label-arrow\">MLPClassifier</label><div class=\"sk-toggleable__content\"><pre>MLPClassifier(activation=&#x27;tanh&#x27;, alpha=0.1, hidden_layer_sizes=(102, 43),\n",
              "              max_iter=1000, random_state=42)</pre></div></div></div></div></div>"
            ]
          },
          "metadata": {},
          "execution_count": 73
        }
      ]
    },
    {
      "cell_type": "markdown",
      "source": [
        "Evaluación de desempeño con conjunto de validación"
      ],
      "metadata": {
        "id": "K5_VOlcSouSx"
      }
    },
    {
      "cell_type": "code",
      "source": [
        "# Exactitud del modelo con conjunto de validación\n",
        "test_accuracy = model.score(X_vali, y_vali)\n",
        "print(f\"Exactitud: {test_accuracy:,.2f}\")\n",
        "print(\" \")\n",
        "\n",
        "\n",
        "# Predicciones en el conjunto de validación\n",
        "y_pred3 = model.predict(X_vali)\n",
        "\n",
        "# Calcular la matrices de confusión\n",
        "tarNames = ['Wines','Fruits','Meats']\n",
        "print('Predicciones con datos de validacion')\n",
        "for i in range(targets.shape[1]):\n",
        "    print(tarNames[i])\n",
        "    confu(y_vali.iloc[:,i], y_pred3[:,i])\n",
        "    print(' ')"
      ],
      "metadata": {
        "colab": {
          "base_uri": "https://localhost:8080/"
        },
        "id": "FWubObXDohED",
        "outputId": "2a53f3ab-bfc5-45f7-b66d-50279da3d740"
      },
      "execution_count": 74,
      "outputs": [
        {
          "output_type": "stream",
          "name": "stdout",
          "text": [
            "Exactitud: 0.72\n",
            " \n",
            "Predicciones con datos de validacion\n",
            "Wines\n",
            "[[ 98  11]\n",
            " [  5 108]]\n",
            "Exactitud = 0.93\n",
            "Precisión = 0.91\n",
            "Especificidad = 0.90\n",
            "Sensibilidad = 0.96\n",
            " \n",
            "Fruits\n",
            "[[83 25]\n",
            " [24 90]]\n",
            "Exactitud = 0.78\n",
            "Precisión = 0.78\n",
            "Especificidad = 0.77\n",
            "Sensibilidad = 0.79\n",
            " \n",
            "Meats\n",
            "[[ 95   5]\n",
            " [  9 113]]\n",
            "Exactitud = 0.94\n",
            "Precisión = 0.96\n",
            "Especificidad = 0.95\n",
            "Sensibilidad = 0.93\n",
            " \n"
          ]
        }
      ]
    }
  ]
}