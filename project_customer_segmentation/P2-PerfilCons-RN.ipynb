{
  "nbformat": 4,
  "nbformat_minor": 0,
  "metadata": {
    "colab": {
      "provenance": []
    },
    "kernelspec": {
      "name": "python3",
      "display_name": "Python 3"
    },
    "language_info": {
      "name": "python"
    }
  },
  "cells": [
    {
      "cell_type": "markdown",
      "source": [
        "# Desarrollo proyecto Sistemas inteligentes\n",
        "## Perfil de Consumidor\n",
        "\n",
        "P2-PerfilCons\n",
        "Integrantes: Michelle Soto Florido, Andrés Parra Rodríguez, Julio Alberto Parra Martínez, Carlos A. Talero Jacome\n",
        "\n",
        "En este se describe el desarrollo del modelo de una red neuronal para identificar los posibles tipos de productos a comprar de un cliente en una página de internet. Esto se realizó con la base de datos Customer\n",
        "Personality Analysis de la página de internet Kaggle."
      ],
      "metadata": {
        "id": "pdMNRwZJRcfv"
      }
    },
    {
      "cell_type": "markdown",
      "source": [
        "### 1. Lectura base de datos\n",
        "\n",
        "Se realiza lectura de la base de datos directamente del archivo descargado. Luego se eliminan variables que no contienen información (Z_CostContact y Z_Revenue) y las que no se emplearán para el modelo (ID y Complain)"
      ],
      "metadata": {
        "id": "oJVjSvNPS0_w"
      }
    },
    {
      "cell_type": "code",
      "execution_count": 33,
      "metadata": {
        "id": "T4q5E4zUQKo8"
      },
      "outputs": [],
      "source": [
        "import pandas as pd\n",
        "from sklearn.preprocessing import StandardScaler\n",
        "from sklearn.model_selection import train_test_split\n",
        "from sklearn.neural_network import MLPClassifier\n",
        "from sklearn.preprocessing import LabelEncoder\n",
        "from sklearn.metrics import confusion_matrix\n",
        "from sklearn.metrics import accuracy_score\n",
        "import matplotlib.pyplot as plt\n",
        "import numpy as np\n",
        "\n",
        "# Lectura datos\n",
        "data = pd.read_csv(\"Customer Personality Analysis.csv\",sep='\\t')\n",
        "# Eliminacion de variables no usadas\n",
        "data.drop(['ID','Z_CostContact', 'Z_Revenue','Dt_Customer','Complain'], axis=1, inplace=True)\n",
        "# Eliminacion de datos NaN\n",
        "data = data.dropna()\n",
        "data.reset_index(drop=True, inplace=True)"
      ]
    },
    {
      "cell_type": "markdown",
      "source": [
        "### 2. Transformación de las salidas\n",
        "El propósito de este modelo es predecir con datos demográficos y de comportamiento qué artículos es más probable que compren los usuarios de la plataforma. Las salidas del sistema es un conjunto de datos binarios, donde cada dígito indica la probabilidad de que el usuario puede comprar el artículo o no.\n",
        "\n",
        "Para esto se hace una frontera con la mediana de cada variable."
      ],
      "metadata": {
        "id": "b0EWPUrnRdAM"
      }
    },
    {
      "cell_type": "code",
      "source": [
        "# Sustrae los targets\n",
        "targets = data.loc[:, [\"MntWines\",\"MntFruits\",\"MntMeatProducts\",\"MntFishProducts\",\"MntSweetProducts\",\"MntGoldProds\"]]\n",
        "data.drop([\"MntWines\",\"MntFruits\",\"MntMeatProducts\",\"MntFishProducts\",\"MntSweetProducts\",\"MntGoldProds\"], axis=1, inplace=True)\n",
        "\n",
        "# Transformacion de la salidas (6) Escoge las menores de la mitad de los datos (menores a mediana) con Normalizacion (z-score)\n",
        "scalert = StandardScaler()\n",
        "labels = pd.DataFrame(scalert.fit_transform(targets))\n",
        "for i in range(targets.shape[1]):\n",
        "    labels[i] = targets.iloc[:,i] >= np.median(targets.iloc[:,i])\n",
        "labels = labels.replace({False: 0, True: 1})\n",
        "\n",
        "# Frontera de desición mediana para binarizar targets\n",
        "tarNames = ['Wines','Fruits','Meats','Fish','Sweets','Gold']\n",
        "for i in range(targets.shape[1]):\n",
        "    print('Mediana de ' + tarNames[i] + ' = ' + str(np.median(targets.iloc[:,i])))\n",
        "    print('Media de ' + tarNames[i] + ' = ' + str(np.mean(targets.iloc[:,i])))\n",
        "\n",
        "# Boxplot de targets sin normalizar\n",
        "plt.boxplot(targets,labels=tarNames);"
      ],
      "metadata": {
        "colab": {
          "base_uri": "https://localhost:8080/",
          "height": 638
        },
        "id": "SYH-OQrBRdX1",
        "outputId": "843a6da7-a40b-4562-d52a-65d92cce7594"
      },
      "execution_count": 34,
      "outputs": [
        {
          "output_type": "stream",
          "name": "stdout",
          "text": [
            "Mediana de Wines = 174.5\n",
            "Media de Wines = 305.09160649819495\n",
            "Mediana de Fruits = 8.0\n",
            "Media de Fruits = 26.356046931407942\n",
            "Mediana de Meats = 68.0\n",
            "Media de Meats = 166.99593862815885\n",
            "Mediana de Fish = 12.0\n",
            "Media de Fish = 37.63763537906137\n",
            "Mediana de Sweets = 8.0\n",
            "Media de Sweets = 27.028880866425993\n",
            "Mediana de Gold = 24.5\n",
            "Media de Gold = 43.96525270758123\n"
          ]
        },
        {
          "output_type": "display_data",
          "data": {
            "text/plain": [
              "<Figure size 640x480 with 1 Axes>"
            ],
            "image/png": "[encoded data removed]"
          },
          "metadata": {}
        }
      ]
    },
    {
      "cell_type": "markdown",
      "source": [
        "3. Transformaciones a datos de entrada\n",
        "\n",
        "Se toquenizó en número dos variables que venían como texto (Education y Marital_Status). Se generaron dos nuevas variables que dan información sobre el total de compras y el total de promociones acptadas por cada persona. Finalmente se realizó una estandarización con Z-Score"
      ],
      "metadata": {
        "id": "zTAyAsOTRd2m"
      }
    },
    {
      "cell_type": "code",
      "source": [
        "# Strings a numeros (Tokenizacion)\n",
        "label_encoder = LabelEncoder()\n",
        "data['Education'] = label_encoder.fit_transform(data.loc[:,['Education']])\n",
        "data['Marital_Status'] = label_encoder.fit_transform(data.loc[:,['Marital_Status']])\n",
        "\n",
        "# Transformacion logaritmica a datos sesgados a la derecha\n",
        "# data[] = np.log(data['Income'], 10)\n",
        "\n",
        "# Nuevas variables\n",
        "# Total promociones aceptadas\n",
        "data['Total promociones'] = data['AcceptedCmp3']+data['AcceptedCmp4']+data['AcceptedCmp5']+data['AcceptedCmp1']+data['AcceptedCmp2']+data['Response']\n",
        "# Total compras realizadas\n",
        "data['Total Compras'] = data['NumDealsPurchases']+data['NumWebPurchases']+data['NumCatalogPurchases']+data['NumStorePurchases']\n",
        "\n",
        "# Normalizacion a todas (z-score)\n",
        "scaler = StandardScaler()\n",
        "data = scaler.fit_transform(data)"
      ],
      "metadata": {
        "colab": {
          "base_uri": "https://localhost:8080/"
        },
        "id": "arOXPg8_ReNI",
        "outputId": "0a3c61a5-9b1e-4d5a-9546-f510c0aa1df4"
      },
      "execution_count": 27,
      "outputs": [
        {
          "output_type": "stream",
          "name": "stderr",
          "text": [
            "/usr/local/lib/python3.10/dist-packages/sklearn/preprocessing/_label.py:116: DataConversionWarning: A column-vector y was passed when a 1d array was expected. Please change the shape of y to (n_samples, ), for example using ravel().\n",
            "  y = column_or_1d(y, warn=True)\n",
            "/usr/local/lib/python3.10/dist-packages/sklearn/preprocessing/_label.py:116: DataConversionWarning: A column-vector y was passed when a 1d array was expected. Please change the shape of y to (n_samples, ), for example using ravel().\n",
            "  y = column_or_1d(y, warn=True)\n"
          ]
        }
      ]
    },
    {
      "cell_type": "markdown",
      "source": [
        "4. Separación entre conjuntos de entrenamiento, test y validación.\n",
        "\n",
        "Se separaron las observaciones en tres conjuntos de datos:\n",
        "entrenamiento: 60%\n",
        "test: 40%\n",
        "validación 10%"
      ],
      "metadata": {
        "id": "3-I37J6ORemS"
      }
    },
    {
      "cell_type": "code",
      "source": [
        "# Separacion entre datos entrenamiento, prueba y validación.\n",
        "seed = 50\n",
        "# Division de conjuntos de entrenamiento (60%) y los otros\n",
        "X_train, X_temp = train_test_split(data, test_size=0.4, random_state=seed)\n",
        "# Divicion entre datos de validacion (10%) y test (30%)\n",
        "X_test, X_vali = train_test_split(X_temp, test_size=0.25, random_state=seed)\n",
        "\n",
        "# Division de conjuntos de entrenamiento (60%) y los otros\n",
        "y_train, y_temp = train_test_split(labels, test_size=0.4, random_state=seed)\n",
        "# Divicion entre datos de validacion (10%) y test (30%)\n",
        "y_test, y_vali = train_test_split(y_temp, test_size=0.25, random_state=seed)\n"
      ],
      "metadata": {
        "id": "s5NHCa7DSPyd"
      },
      "execution_count": 28,
      "outputs": []
    },
    {
      "cell_type": "markdown",
      "source": [
        "5. Entrenamiento del modelo\n",
        "\n",
        "Se empleó una red neuronal clásica con dos capas ocultas, cada una con 128 neuronas. Como función de activación se empleó ReLU (Rectified Linear Unit)."
      ],
      "metadata": {
        "id": "U3ZqAKXbSSGQ"
      }
    },
    {
      "cell_type": "code",
      "source": [
        "# Red Neuronal con sus parametros\n",
        "model = MLPClassifier(hidden_layer_sizes=(128, 128), activation='relu', max_iter=1000, random_state=42)\n",
        "\n",
        "# Entrena el modelo\n",
        "model.fit(X_train, y_train)"
      ],
      "metadata": {
        "colab": {
          "base_uri": "https://localhost:8080/",
          "height": 74
        },
        "id": "kaDEA-lbSS0b",
        "outputId": "f701496e-86c7-49f3-aeac-54dca90d6590"
      },
      "execution_count": 29,
      "outputs": [
        {
          "output_type": "execute_result",
          "data": {
            "text/plain": [
              "MLPClassifier(hidden_layer_sizes=(128, 128), max_iter=1000, random_state=42)"
            ],
            "text/html": [
              "<style>#sk-container-id-2 {color: black;background-color: white;}#sk-container-id-2 pre{padding: 0;}#sk-container-id-2 div.sk-toggleable {background-color: white;}#sk-container-id-2 label.sk-toggleable__label {cursor: pointer;display: block;width: 100%;margin-bottom: 0;padding: 0.3em;box-sizing: border-box;text-align: center;}#sk-container-id-2 label.sk-toggleable__label-arrow:before {content: \"▸\";float: left;margin-right: 0.25em;color: #696969;}#sk-container-id-2 label.sk-toggleable__label-arrow:hover:before {color: black;}#sk-container-id-2 div.sk-estimator:hover label.sk-toggleable__label-arrow:before {color: black;}#sk-container-id-2 div.sk-toggleable__content {max-height: 0;max-width: 0;overflow: hidden;text-align: left;background-color: #f0f8ff;}#sk-container-id-2 div.sk-toggleable__content pre {margin: 0.2em;color: black;border-radius: 0.25em;background-color: #f0f8ff;}#sk-container-id-2 input.sk-toggleable__control:checked~div.sk-toggleable__content {max-height: 200px;max-width: 100%;overflow: auto;}#sk-container-id-2 input.sk-toggleable__control:checked~label.sk-toggleable__label-arrow:before {content: \"▾\";}#sk-container-id-2 div.sk-estimator input.sk-toggleable__control:checked~label.sk-toggleable__label {background-color: #d4ebff;}#sk-container-id-2 div.sk-label input.sk-toggleable__control:checked~label.sk-toggleable__label {background-color: #d4ebff;}#sk-container-id-2 input.sk-hidden--visually {border: 0;clip: rect(1px 1px 1px 1px);clip: rect(1px, 1px, 1px, 1px);height: 1px;margin: -1px;overflow: hidden;padding: 0;position: absolute;width: 1px;}#sk-container-id-2 div.sk-estimator {font-family: monospace;background-color: #f0f8ff;border: 1px dotted black;border-radius: 0.25em;box-sizing: border-box;margin-bottom: 0.5em;}#sk-container-id-2 div.sk-estimator:hover {background-color: #d4ebff;}#sk-container-id-2 div.sk-parallel-item::after {content: \"\";width: 100%;border-bottom: 1px solid gray;flex-grow: 1;}#sk-container-id-2 div.sk-label:hover label.sk-toggleable__label {background-color: #d4ebff;}#sk-container-id-2 div.sk-serial::before {content: \"\";position: absolute;border-left: 1px solid gray;box-sizing: border-box;top: 0;bottom: 0;left: 50%;z-index: 0;}#sk-container-id-2 div.sk-serial {display: flex;flex-direction: column;align-items: center;background-color: white;padding-right: 0.2em;padding-left: 0.2em;position: relative;}#sk-container-id-2 div.sk-item {position: relative;z-index: 1;}#sk-container-id-2 div.sk-parallel {display: flex;align-items: stretch;justify-content: center;background-color: white;position: relative;}#sk-container-id-2 div.sk-item::before, #sk-container-id-2 div.sk-parallel-item::before {content: \"\";position: absolute;border-left: 1px solid gray;box-sizing: border-box;top: 0;bottom: 0;left: 50%;z-index: -1;}#sk-container-id-2 div.sk-parallel-item {display: flex;flex-direction: column;z-index: 1;position: relative;background-color: white;}#sk-container-id-2 div.sk-parallel-item:first-child::after {align-self: flex-end;width: 50%;}#sk-container-id-2 div.sk-parallel-item:last-child::after {align-self: flex-start;width: 50%;}#sk-container-id-2 div.sk-parallel-item:only-child::after {width: 0;}#sk-container-id-2 div.sk-dashed-wrapped {border: 1px dashed gray;margin: 0 0.4em 0.5em 0.4em;box-sizing: border-box;padding-bottom: 0.4em;background-color: white;}#sk-container-id-2 div.sk-label label {font-family: monospace;font-weight: bold;display: inline-block;line-height: 1.2em;}#sk-container-id-2 div.sk-label-container {text-align: center;}#sk-container-id-2 div.sk-container {/* jupyter's `normalize.less` sets `[hidden] { display: none; }` but bootstrap.min.css set `[hidden] { display: none !important; }` so we also need the `!important` here to be able to override the default hidden behavior on the sphinx rendered scikit-learn.org. See: https://github.com/scikit-learn/scikit-learn/issues/21755 */display: inline-block !important;position: relative;}#sk-container-id-2 div.sk-text-repr-fallback {display: none;}</style><div id=\"sk-container-id-2\" class=\"sk-top-container\"><div class=\"sk-text-repr-fallback\"><pre>MLPClassifier(hidden_layer_sizes=(128, 128), max_iter=1000, random_state=42)</pre><b>In a Jupyter environment, please rerun this cell to show the HTML representation or trust the notebook. <br />On GitHub, the HTML representation is unable to render, please try loading this page with nbviewer.org.</b></div><div class=\"sk-container\" hidden><div class=\"sk-item\"><div class=\"sk-estimator sk-toggleable\"><input class=\"sk-toggleable__control sk-hidden--visually\" id=\"sk-estimator-id-2\" type=\"checkbox\" checked><label for=\"sk-estimator-id-2\" class=\"sk-toggleable__label sk-toggleable__label-arrow\">MLPClassifier</label><div class=\"sk-toggleable__content\"><pre>MLPClassifier(hidden_layer_sizes=(128, 128), max_iter=1000, random_state=42)</pre></div></div></div></div></div>"
            ]
          },
          "metadata": {},
          "execution_count": 29
        }
      ]
    },
    {
      "cell_type": "markdown",
      "source": [
        "6. Evaluación del modelo con datos de test"
      ],
      "metadata": {
        "id": "sO0aBe9sSb3x"
      }
    },
    {
      "cell_type": "code",
      "source": [
        "# Test del model\n",
        "test_accuracy = model.score(X_test, y_test)\n",
        "print(f'Precisión en datos de prueba: {test_accuracy}')\n",
        "\n",
        "# Realizar predicciones en el conjunto de prueba\n",
        "y_pred = model.predict(X_test)\n",
        "\n",
        "accuracy = accuracy_score(y_test, y_pred)\n",
        "\n",
        "# Funcion m.confunsion\n",
        "def confu(y_test, y_pred):\n",
        "    confusion = confusion_matrix(y_test, y_pred)\n",
        "    TP = confusion[1, 1]\n",
        "    TN = confusion[0, 0]\n",
        "    FP = confusion[0, 1]\n",
        "    FN = confusion[1, 0]\n",
        "    exactitud = (TP + TN) / (TP + TN + FP + FN)\n",
        "    precision = TP / (TP + FP)\n",
        "    especificidad = TN / (TN + FP)\n",
        "    sensibilidad = TP / (TP + FN)\n",
        "    print(confusion)\n",
        "    print('Exactitud = ' + str(exactitud))\n",
        "    print('Precision = ' + str(precision))\n",
        "    print('Especificidad = ' + str(especificidad))\n",
        "    print('Sensibilidad = ' + str(sensibilidad))\n",
        "\n",
        "\n",
        "# Calcular la matrices de confusión\n",
        "tarNames = ['Wines','Fruits','Meats','Fish','Sweets','Gold']\n",
        "print('Predicciones con datos de test')\n",
        "for i in range(targets.shape[1]):\n",
        "    print(tarNames[i])\n",
        "    confu(y_test.iloc[:,i], y_pred[:,i])\n",
        "    print(' ')"
      ],
      "metadata": {
        "colab": {
          "base_uri": "https://localhost:8080/"
        },
        "id": "J4txJ2K-ScL-",
        "outputId": "d04f0b74-e456-4f8d-fbbc-1b44b7f581fe"
      },
      "execution_count": 30,
      "outputs": [
        {
          "output_type": "stream",
          "name": "stdout",
          "text": [
            "Precisión en datos de prueba: 0.47218045112781953\n",
            "Predicciones con datos de test\n",
            "Wines\n",
            "[[319  25]\n",
            " [ 19 302]]\n",
            "Exactitud = 0.9338345864661655\n",
            "Precision = 0.9235474006116208\n",
            "Especificidad = 0.9273255813953488\n",
            "Sensibilidad = 0.940809968847352\n",
            " \n",
            "Fruits\n",
            "[[259  68]\n",
            " [ 67 271]]\n",
            "Exactitud = 0.7969924812030075\n",
            "Precision = 0.799410029498525\n",
            "Especificidad = 0.7920489296636085\n",
            "Sensibilidad = 0.8017751479289941\n",
            " \n",
            "Meats\n",
            "[[313  31]\n",
            " [ 30 291]]\n",
            "Exactitud = 0.9082706766917293\n",
            "Precision = 0.9037267080745341\n",
            "Especificidad = 0.9098837209302325\n",
            "Sensibilidad = 0.9065420560747663\n",
            " \n",
            "Fish\n",
            "[[262  68]\n",
            " [ 63 272]]\n",
            "Exactitud = 0.8030075187969925\n",
            "Precision = 0.8\n",
            "Especificidad = 0.793939393939394\n",
            "Sensibilidad = 0.8119402985074626\n",
            " \n",
            "Sweets\n",
            "[[250  71]\n",
            " [ 65 279]]\n",
            "Exactitud = 0.7954887218045112\n",
            "Precision = 0.7971428571428572\n",
            "Especificidad = 0.778816199376947\n",
            "Sensibilidad = 0.811046511627907\n",
            " \n",
            "Gold\n",
            "[[260  63]\n",
            " [ 83 259]]\n",
            "Exactitud = 0.7804511278195488\n",
            "Precision = 0.8043478260869565\n",
            "Especificidad = 0.804953560371517\n",
            "Sensibilidad = 0.7573099415204678\n",
            " \n"
          ]
        }
      ]
    },
    {
      "cell_type": "markdown",
      "source": [
        "7. Evaluación del modelo con datos de validación"
      ],
      "metadata": {
        "id": "jJUvPlAdSjRX"
      }
    },
    {
      "cell_type": "code",
      "source": [
        "# Predicciones en el conjunto de validación\n",
        "y_pred2 = model.predict(X_vali)\n",
        "\n",
        "# Calcular la matrices de confusión\n",
        "tarNames = ['Wines','Fruits','Meats','Fish','Sweets','Gold']\n",
        "print('Predicciones con datos de validacion')\n",
        "for i in range(targets.shape[1]):\n",
        "    print(tarNames[i])\n",
        "    confu(y_vali.iloc[:,i], y_pred2[:,i])\n",
        "    print(' ')"
      ],
      "metadata": {
        "colab": {
          "base_uri": "https://localhost:8080/"
        },
        "id": "m5G0cs2jSjlA",
        "outputId": "0aecf459-10e7-457e-87bc-82db81c66546"
      },
      "execution_count": 31,
      "outputs": [
        {
          "output_type": "stream",
          "name": "stdout",
          "text": [
            "Predicciones con datos de validacion\n",
            "Wines\n",
            "[[ 95  14]\n",
            " [  7 106]]\n",
            "Exactitud = 0.9054054054054054\n",
            "Precision = 0.8833333333333333\n",
            "Especificidad = 0.8715596330275229\n",
            "Sensibilidad = 0.9380530973451328\n",
            " \n",
            "Fruits\n",
            "[[84 24]\n",
            " [16 98]]\n",
            "Exactitud = 0.8198198198198198\n",
            "Precision = 0.8032786885245902\n",
            "Especificidad = 0.7777777777777778\n",
            "Sensibilidad = 0.8596491228070176\n",
            " \n",
            "Meats\n",
            "[[ 94   6]\n",
            " [  8 114]]\n",
            "Exactitud = 0.9369369369369369\n",
            "Precision = 0.95\n",
            "Especificidad = 0.94\n",
            "Sensibilidad = 0.9344262295081968\n",
            " \n",
            "Fish\n",
            "[[81 28]\n",
            " [23 90]]\n",
            "Exactitud = 0.7702702702702703\n",
            "Precision = 0.7627118644067796\n",
            "Especificidad = 0.7431192660550459\n",
            "Sensibilidad = 0.7964601769911505\n",
            " \n",
            "Sweets\n",
            "[[79 22]\n",
            " [27 94]]\n",
            "Exactitud = 0.7792792792792793\n",
            "Precision = 0.8103448275862069\n",
            "Especificidad = 0.7821782178217822\n",
            "Sensibilidad = 0.7768595041322314\n",
            " \n",
            "Gold\n",
            "[[86 27]\n",
            " [24 85]]\n",
            "Exactitud = 0.7702702702702703\n",
            "Precision = 0.7589285714285714\n",
            "Especificidad = 0.7610619469026548\n",
            "Sensibilidad = 0.7798165137614679\n",
            " \n"
          ]
        }
      ]
    },
    {
      "cell_type": "markdown",
      "source": [],
      "metadata": {
        "id": "0FNe_Ti_SQKv"
      }
    }
  ]
}